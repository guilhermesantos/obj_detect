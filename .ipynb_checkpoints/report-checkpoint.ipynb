{
 "cells": [
  {
   "cell_type": "code",
   "execution_count": 1,
   "metadata": {},
   "outputs": [],
   "source": [
    "import os\n",
    "import numpy as np\n",
    "import glob\n",
    "import scipy.stats as st\n",
    "import math\n",
    "import matplotlib.pyplot as plt\n",
    "import cv2\n",
    "import video_detection as vd\n",
    "import json"
   ]
  },
  {
   "cell_type": "code",
   "execution_count": 10,
   "metadata": {},
   "outputs": [
    {
     "name": "stdout",
     "output_type": "stream",
     "text": [
      "modelos [{'id': 1, 'name': 'MobileNet-SSD v1 Tutorial'}, {'id': 2, 'name': 'MobiletNet-SSD v1 Coco'}, {'id': 3, 'name': 'MobiletNet-SSD v2 Coco'}]\n",
      "medias [0.03185389 0.03410956 0.04588153]\n",
      "erros [1.55658906e-06 1.14335084e-06 1.33136133e-06]\n",
      "[0.07845949 0.07218354 0.5605483 ]\n",
      "[0.15696396 0.71278448 0.41974769]\n",
      "[0.1610556  0.74606385 0.24733692]\n"
     ]
    },
    {
     "data": {
      "image/png": "[encoded data removed]",
      "text/plain": [
       "<Figure size 720x360 with 1 Axes>"
      ]
     },
     "metadata": {
      "needs_background": "light"
     },
     "output_type": "display_data"
    }
   ],
   "source": [
    "models = []\n",
    "models.append({'id': 1, 'name':'MobileNet-SSD v1 Tutorial'})\n",
    "models.append({'id': 2, 'name':'MobileNet-SSD v1 Coco'})\n",
    "models.append({'id': 3, 'name':'MobileNet-SSD v2 Coco'})\n",
    "\n",
    "def conf_inter(sample, interval):\n",
    "    avg = np.average(sample)\n",
    "    std = st.sem(sample)\n",
    "    conf = st.norm.interval(interval, loc=np.average(sample), scale=st.sem(sample)/math.sqrt(len(sample)))\n",
    "    return conf\n",
    "\n",
    "def collect_metrics(files):\n",
    "    files.sort()\n",
    "    metrics = np.zeros(shape=(len(files), 4))\n",
    "\n",
    "    for i, file in enumerate(files):\n",
    "        with open(file,'r') as f:\n",
    "            data = f.read()\n",
    "            measurements = np.array(data.split('\\n'))\n",
    "            measurements = measurements[measurements != ''].astype(np.float32)\n",
    "            avg = np.average(measurements)\n",
    "            std = st.sem(measurements)\n",
    "            conf = conf_inter(measurements, 0.95)\n",
    "            metrics[i,:] = [avg, std, conf[0], conf[1]]\n",
    "    return metrics\n",
    "\n",
    "\n",
    "def plot_time_bars(models, averages, errors, colors=None):\n",
    "    names = [param['name'] for param in models]\n",
    "    \n",
    "    fig, axis = plt.subplots(1, 1, figsize=(10, 5))\n",
    "    axis.set_title('Benchmark: Tempo médio de inferência por modelo')\n",
    "    axis.set_ylabel('Tempo médio de inferência(s)')\n",
    "    axis.set_xlabel('Modelo')\n",
    "    bars = axis.bar(names, averages, yerr=errors)\n",
    "    if(colors == None):\n",
    "        for bar in bars:\n",
    "            color = np.random.rand(3)\n",
    "            print(color)\n",
    "            bar.set_color(color)\n",
    "    else:\n",
    "        for bar, color in zip(bars, colors):\n",
    "            bar.set_color(color)\n",
    "\n",
    "    if(os.path.exists('charts/bar.png')):\n",
    "        os.remove('charts/bar.png')\n",
    "    plt.savefig('charts/bar.png')\n",
    "\n",
    "test_name = 'dataset'\n",
    "files = ['benchmark/time_{}_{}.dat'.format(param['name'], test_name) for param in models]\n",
    "\n",
    "metrics = collect_metrics(files)\n",
    "averages = metrics[:,0]\n",
    "stds = metrics[:, 1]\n",
    "errors = averages-metrics[:,2]\n",
    "\n",
    "plot_time_bars(models, averages, errors)\n"
   ]
  },
  {
   "cell_type": "code",
   "execution_count": 18,
   "metadata": {},
   "outputs": [
    {
     "name": "stdout",
     "output_type": "stream",
     "text": [
      "loading annotations into memory...\n",
      "Done (t=0.44s)\n",
      "creating index...\n",
      "index created!\n",
      "\n",
      "\n",
      "Current file under testing benchmark/detections_MobileNet-SSD v1 Tutorial_dataset.json\n",
      "Loading and preparing results...\n",
      "DONE (t=0.06s)\n",
      "creating index...\n",
      "index created!\n",
      "Running per image evaluation...\n",
      "Evaluate annotation type *bbox*\n",
      "DONE (t=11.78s).\n",
      "Accumulating evaluation results...\n",
      "DONE (t=2.19s).\n",
      " Average Precision  (AP) @[ IoU=0.50:0.95 | area=   all | maxDets=100 ] = 0.006\n",
      " Average Precision  (AP) @[ IoU=0.50      | area=   all | maxDets=100 ] = 0.008\n",
      " Average Precision  (AP) @[ IoU=0.75      | area=   all | maxDets=100 ] = 0.006\n",
      " Average Precision  (AP) @[ IoU=0.50:0.95 | area= small | maxDets=100 ] = 0.000\n",
      " Average Precision  (AP) @[ IoU=0.50:0.95 | area=medium | maxDets=100 ] = 0.002\n",
      " Average Precision  (AP) @[ IoU=0.50:0.95 | area= large | maxDets=100 ] = 0.012\n",
      " Average Recall     (AR) @[ IoU=0.50:0.95 | area=   all | maxDets=  1 ] = 0.006\n",
      " Average Recall     (AR) @[ IoU=0.50:0.95 | area=   all | maxDets= 10 ] = 0.006\n",
      " Average Recall     (AR) @[ IoU=0.50:0.95 | area=   all | maxDets=100 ] = 0.006\n",
      " Average Recall     (AR) @[ IoU=0.50:0.95 | area= small | maxDets=100 ] = 0.000\n",
      " Average Recall     (AR) @[ IoU=0.50:0.95 | area=medium | maxDets=100 ] = 0.002\n",
      " Average Recall     (AR) @[ IoU=0.50:0.95 | area= large | maxDets=100 ] = 0.014\n",
      "\n",
      "\n",
      "Current file under testing benchmark/detections_MobiletNet-SSD v1 Coco_dataset.json\n",
      "Loading and preparing results...\n",
      "DONE (t=0.15s)\n",
      "creating index...\n",
      "index created!\n",
      "Running per image evaluation...\n",
      "Evaluate annotation type *bbox*\n",
      "DONE (t=18.31s).\n",
      "Accumulating evaluation results...\n",
      "DONE (t=2.50s).\n",
      " Average Precision  (AP) @[ IoU=0.50:0.95 | area=   all | maxDets=100 ] = 0.244\n",
      " Average Precision  (AP) @[ IoU=0.50      | area=   all | maxDets=100 ] = 0.379\n",
      " Average Precision  (AP) @[ IoU=0.75      | area=   all | maxDets=100 ] = 0.264\n",
      " Average Precision  (AP) @[ IoU=0.50:0.95 | area= small | maxDets=100 ] = 0.022\n",
      " Average Precision  (AP) @[ IoU=0.50:0.95 | area=medium | maxDets=100 ] = 0.189\n",
      " Average Precision  (AP) @[ IoU=0.50:0.95 | area= large | maxDets=100 ] = 0.545\n",
      " Average Recall     (AR) @[ IoU=0.50:0.95 | area=   all | maxDets=  1 ] = 0.219\n",
      " Average Recall     (AR) @[ IoU=0.50:0.95 | area=   all | maxDets= 10 ] = 0.286\n",
      " Average Recall     (AR) @[ IoU=0.50:0.95 | area=   all | maxDets=100 ] = 0.288\n",
      " Average Recall     (AR) @[ IoU=0.50:0.95 | area= small | maxDets=100 ] = 0.029\n",
      " Average Recall     (AR) @[ IoU=0.50:0.95 | area=medium | maxDets=100 ] = 0.229\n",
      " Average Recall     (AR) @[ IoU=0.50:0.95 | area= large | maxDets=100 ] = 0.635\n",
      "\n",
      "\n",
      "Current file under testing benchmark/detections_MobiletNet-SSD v2 Coco_dataset.json\n",
      "Loading and preparing results...\n",
      "DONE (t=0.15s)\n",
      "creating index...\n",
      "index created!\n",
      "Running per image evaluation...\n",
      "Evaluate annotation type *bbox*\n",
      "DONE (t=19.54s).\n",
      "Accumulating evaluation results...\n",
      "DONE (t=2.86s).\n",
      " Average Precision  (AP) @[ IoU=0.50:0.95 | area=   all | maxDets=100 ] = 0.259\n",
      " Average Precision  (AP) @[ IoU=0.50      | area=   all | maxDets=100 ] = 0.403\n",
      " Average Precision  (AP) @[ IoU=0.75      | area=   all | maxDets=100 ] = 0.280\n",
      " Average Precision  (AP) @[ IoU=0.50:0.95 | area= small | maxDets=100 ] = 0.025\n",
      " Average Precision  (AP) @[ IoU=0.50:0.95 | area=medium | maxDets=100 ] = 0.198\n",
      " Average Precision  (AP) @[ IoU=0.50:0.95 | area= large | maxDets=100 ] = 0.583\n",
      " Average Recall     (AR) @[ IoU=0.50:0.95 | area=   all | maxDets=  1 ] = 0.231\n",
      " Average Recall     (AR) @[ IoU=0.50:0.95 | area=   all | maxDets= 10 ] = 0.298\n",
      " Average Recall     (AR) @[ IoU=0.50:0.95 | area=   all | maxDets=100 ] = 0.301\n",
      " Average Recall     (AR) @[ IoU=0.50:0.95 | area= small | maxDets=100 ] = 0.035\n",
      " Average Recall     (AR) @[ IoU=0.50:0.95 | area=medium | maxDets=100 ] = 0.241\n",
      " Average Recall     (AR) @[ IoU=0.50:0.95 | area= large | maxDets=100 ] = 0.661\n"
     ]
    }
   ],
   "source": [
    "from pycocotools.coco import COCO\n",
    "from pycocotools.cocoeval import COCOeval\n",
    "\n",
    "annotations = './dataset/val2017/annotations/instances_val2017.json'\n",
    "annotation_types = ['bbox']\n",
    "coco_gt = COCO(annotations)\n",
    "\n",
    "for model in models:\n",
    "    test_file = 'benchmark/detections_{}_{}.json'.format(model['name'],test_name)\n",
    "    print('\\n\\nCurrent file under testing', test_file)\n",
    "    dataset = coco_gt.loadRes(test_file)\n",
    "    coco_eval = COCOeval(coco_gt, dataset, annotation_types[0])\n",
    "    coco_eval.evaluate()\n",
    "    coco_eval.accumulate()\n",
    "    coco_eval.summarize()\n",
    "    model['results'] = coco_eval.stats"
   ]
  },
  {
   "cell_type": "code",
   "execution_count": 19,
   "metadata": {},
   "outputs": [
    {
     "name": "stdout",
     "output_type": "stream",
     "text": [
      "[array([0.00557092, 0.00767817, 0.0060761 , 0.        , 0.00159993,\n",
      "       0.01226696, 0.00577825, 0.00630042, 0.00630042, 0.        ,\n",
      "       0.00192573, 0.01420568]), array([0.24433666, 0.37940459, 0.26433519, 0.02167091, 0.18894423,\n",
      "       0.54502774, 0.21936043, 0.28558775, 0.28794153, 0.02917853,\n",
      "       0.22897877, 0.6347224 ]), array([0.25943344, 0.40251302, 0.28046741, 0.02539463, 0.19832845,\n",
      "       0.58263961, 0.23095174, 0.29825296, 0.30082644, 0.03525829,\n",
      "       0.24144187, 0.66144565])]\n"
     ]
    }
   ],
   "source": [
    "print([param['results'] for param in models])"
   ]
  },
  {
   "cell_type": "markdown",
   "metadata": {},
   "source": [
    "<h2>Introdução</h2>\n",
    "<p>A expansão da utilização e poder computacional de dispositivos móveis, aliados à crescente demanda por aplicações sofisticadas destinadas a estas plataformas, provocou a ampliação do interesse em estudo e pesquisa sobre visão computacional (EXPLICAR MELHOR?). Neste contexto, as últimas décadas resultaram em significativos avanços na disciplina, aproveitando-se sobretudo no progresso concomitante em inteligência artificial e aprendizado de máquina. Isto conferiu à visão computacional a flexibilidade proporcionada pelo uso de sistemas especialistas, sobretudo quando comparados com as tradicionais abordagens baseadas na detecção de formas paramétricas como a Transformada de Hough.</p>\n",
    "<p>Desta forma, este trabalho foi concebido com o propósito de realizar a comparação quantitativa de modelos de aprendizado de máquina voltados à detecção de objetos em imagens. Houve interesse, sobretudo, em estudar a aplicabilidade destes modelos a circunstâncias que imponham limitações ao hardware utilizado, como em computadores pessoais de baixo custo.</p>\n",
    "<p>Além disso, buscou-se estudar as métricas que são empregadas na avaliação da precisão de modelos de detecção de objetos na academia e na indústria. Isto foi feito com o intuito de providenciar informações dentro de um molde padrão que pode ser rapidamente compreendido, além de permitir a comparação dos resultados obtidos com referências fornecidas por trabalhos anteriores. </p>"
   ]
  },
  {
   "cell_type": "markdown",
   "metadata": {},
   "source": [
    "<h2>Metodologia</h2>\n",
    "\n",
    "<p>Para realização dos testes, foram selecionados modelos de visão computacional baseados em técnicas de Deep Learning, notórios por apresentar severas exigências de capacidade computacional. Dada a intenção deste trabalho de explorar a viabilidade da tecnologia em plataformas de baixo desempenho, os modelos escolhidos deveriam se propor a atingir menor tempo de inferência. Neste estudo foram selecionados, portanto, os modelos (a,b,c) baseados nas arquiteturas (d,e,f), que tomam proveito de técnicas (g,h,i), que visam obter maior desempenho computacional ao custo de redução da precisão das detecções.</p>\n",
    "\n",
    "<p>Vale notar que, tratando-se de modelos de detecção de objetos, a saída destes modelos deve conter, para cada imagem (identificada por um número único no dataset), uma associação entre uma categoria (ou \"classe\" do objeto) e uma bounding box, que consiste de uma tupla informando as coordenadas do vértice superior esquerdo, junto com a largura e altura da imagem.</p>\n",
    "\n",
    "<p>A utilização dos modelos foi feita por meio da interface na linguagem Python da biblioteca OpenCV. Isto se deve ao fato de oferecer um extenso conjunto de ferramentas de processamento de imagens e vídeos, eliminando atrasos com tarefas acessórias ao objetivo do trabalho. Adicionalmente, oferece acesso conveniente a funcionalidades que permitem o carregamento e uso de modelos criados e treinados em plataformas externas, como Caffe e Tensorflow, por meio do módulo DNN.</p>\n",
    "\n",
    "<p>A medição do tempo de inferência foi feita por meio do uso destes modelos em captura de vídeo e imagens. No caso do vídeo, cada quadro é tratado como uma imagem independente, que é então submetida ao modelo de forma cronometrada. A medição é realizada (5000?) vezes, seguida pelo cálculo da média com intervalo de confiança de 95%. </p>\n",
    "\n",
    "<p>As medidas de precisão empregadas, por sua vez, tiveram como referência aquelas avaliadas pelo dataset COCO (Common Objects in Context). Este é utilizado em pesquisas e competições que exploram o estado da arte em atividades de detecção de objetos, keypoints, captioning e segmentação. Para a finalidade de detecção de objetos, foi utilizado o dataset de validação de 2017, estando as imagens contidas no dataset \"2017 Val Images\" e o ground truth em \"2017 Train/Val annotations\". Este conjunto é composto de 5000 imagens e utiliza o formato JSON para representar o ground truth, de acordo com o seguinte formato:</p>\n",
    "\n",
    "FORMATO DO JSON\n",
    "\n",
    "<p>Junto ao dataset, é fornecida pelos autores do conjunto a ferramenta COCOeval, que utiliza a saída dos modelos (que deve ser disponibilizada no formato JSON, semelhante ao do ground truth) e realiza automaticamente a comparação das inferências com o ground truth do dataset. Esta resulta nas métricas sugeridas pelos autores do dataset, isto é, average precision (AP) e average recall (AR) utilizando intersection over union (IoU). O IoU consiste, essencialmente, em computar a razão com que a imagem predita e o ground truth se sobrepõem, resultando em um valor entre 0 e 1 ,que é mais alto quanto mais as duas imagens se sobrepõem. O AP e o AR são calculados sucessivamente, primeiro separadamente para cada tamanho de imagem (e.g., AP small, AP medium, AP large) e, em seguida, para todas as imagens, independentemente do tamanho.</p>"
   ]
  },
  {
   "cell_type": "markdown",
   "metadata": {},
   "source": [
    "<h2>Resultados</h2>"
   ]
  },
  {
   "cell_type": "markdown",
   "metadata": {},
   "source": [
    "<h2>Conclusão</h2>"
   ]
  }
 ],
 "metadata": {
  "kernelspec": {
   "display_name": "Python 3",
   "language": "python",
   "name": "python3"
  },
  "language_info": {
   "codemirror_mode": {
    "name": "ipython",
    "version": 3
   },
   "file_extension": ".py",
   "mimetype": "text/x-python",
   "name": "python",
   "nbconvert_exporter": "python",
   "pygments_lexer": "ipython3",
   "version": "3.6.7"
  }
 },
 "nbformat": 4,
 "nbformat_minor": 2
}
