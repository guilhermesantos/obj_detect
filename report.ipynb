{
 "cells": [
  {
   "cell_type": "code",
   "execution_count": 22,
   "metadata": {},
   "outputs": [
    {
     "name": "stdout",
     "output_type": "stream",
     "text": [
      "[0.63732403 0.0709359  0.27856818]\n",
      "[0.99831818 0.78115109 0.36778114]\n",
      "[0.88837208 0.72170094 0.70818942]\n"
     ]
    },
    {
     "data": {
      "image/png": "[encoded data removed]",
      "text/plain": [
       "<Figure size 720x360 with 1 Axes>"
      ]
     },
     "metadata": {
      "needs_background": "light"
     },
     "output_type": "display_data"
    }
   ],
   "source": [
    "import os\n",
    "import numpy as np\n",
    "import glob\n",
    "import scipy.stats as st\n",
    "import math\n",
    "import matplotlib.pyplot as plt\n",
    "import cv2\n",
    "import video_detection as vd\n",
    "import json\n",
    "\n",
    "\n",
    "def conf_inter(sample, interval):\n",
    "    avg = np.average(sample)\n",
    "    std = st.sem(sample)\n",
    "    conf = st.norm.interval(interval, loc=np.average(sample), scale=st.sem(sample)/math.sqrt(len(sample)))\n",
    "    return conf\n",
    "\n",
    "def collect_metrics(models):\n",
    "    files = glob.glob('*.dat')\n",
    "    files.sort()\n",
    "    metrics = np.zeros(shape=(len(models), 4))\n",
    "\n",
    "    for i, file in enumerate(files):\n",
    "        with open(file,'r') as f:\n",
    "            data = f.read()\n",
    "            measurements = np.array(data.split('\\n'))\n",
    "            measurements = measurements[measurements != ''].astype(np.float32)\n",
    "            avg = np.average(measurements)\n",
    "            std = st.sem(measurements)\n",
    "            conf = conf_inter(measurements, 0.95)\n",
    "            metrics[i,:] = [avg, std, conf[0], conf[1]]\n",
    "    return metrics\n",
    "\n",
    "\n",
    "def plot_time_bars(models, averages, errors, colors=None):\n",
    "    fig, axis = plt.subplots(1, 1, figsize=(10, 5))\n",
    "    axis.set_title('Benchmark: Tempo de inferência por modelo')\n",
    "    axis.set_ylabel('Tempo médio de inferência(s)')\n",
    "    axis.set_xlabel('Modelo')\n",
    "    bars = axis.bar(models, averages, yerr=errors)\n",
    "    if(colors == None):\n",
    "        for bar in bars:\n",
    "            color = np.random.rand(3)\n",
    "            print(color)\n",
    "            bar.set_color(color)\n",
    "    else:\n",
    "        for bar, color in zip(bars, colors):\n",
    "            bar.set_color(color)\n",
    "\n",
    "    if(os.path.exists('charts/bar.jpg')):\n",
    "        os.remove('charts/bar.jpg')\n",
    "    plt.savefig('charts/bar.jpg')\n",
    "\n",
    "models = ['SSD MobiletNet V1', 'SSD MobiletNet V1 (Coco)', 'SSD Mobilenet V2(Coco)']\n",
    "metrics = collect_metrics(models)\n",
    "averages = metrics[:,0]\n",
    "stds = metrics[:, 1]\n",
    "errors = averages-metrics[:,2]\n",
    "\n",
    "plot_time_bars(models, averages, errors)\n"
   ]
  },
  {
   "cell_type": "code",
   "execution_count": null,
   "metadata": {},
   "outputs": [
    {
     "name": "stdout",
     "output_type": "stream",
     "text": [
      "0\n",
      "0\n",
      "500\n",
      "500\n",
      "500\n",
      "500\n",
      "500\n",
      "500\n",
      "500\n",
      "500\n"
     ]
    }
   ],
   "source": [
    "model_nums = [0]\n",
    "\n",
    "for model_num in model_nums:\n",
    "    model = vd.load_net(2)\n",
    "    #print(model)\n",
    "    #print(classes[0:5])\n",
    "    #print(os.listdir('./dataset/val2017/')[0:3])\n",
    "\n",
    "    for i, image_file in enumerate(os.listdir('./dataset/val2017/')):\n",
    "        #print(image_file)\n",
    "        image = cv2.imread('dataset/val2017/'+image_file)\n",
    "        #fig, axis = plt.subplots()\n",
    "\n",
    "        bounding_boxes, class_indexes, confidences, elapsed = vd.detect(model, image)\n",
    "        #for box, class_index, confidence in zip(bounding_boxes, class_indexes, confidences):\n",
    "        #    vd.draw_boxes(model, image, box, class_index, confidence)\n",
    "\n",
    "\n",
    "        detections = []\n",
    "        for bounding_box, class_index, confidence in zip(bounding_boxes, class_indexes, confidences):\n",
    "            start_x, start_y, end_x, end_y = bounding_box\n",
    "            start_x = int(start_x)\n",
    "            start_y = int(start_y)\n",
    "            w = int(end_x - start_x)\n",
    "            h = int(end_y - start_y)\n",
    "            confidence = float(confidence)\n",
    "            image_id = image_file.strip('0')[:image_file.rfind('.')]\n",
    "            #print('confidence', type(confidence))\n",
    "            #print('class index', type(class_index))\n",
    "            #print('start x', type(start_x))\n",
    "            #print('image id', type(image_file.strip('0')[:image_file.rfind('.')]))\n",
    "            detection = {\n",
    "                'image_id': image_id,\n",
    "                'category_id': class_index,\n",
    "                'bbox': [start_x, start_y, w, h],\n",
    "                'score': confidence\n",
    "            }\n",
    "            #print(detection)\n",
    "            #print('\\n\\n')\n",
    "            detections.append(detection)\n",
    "        if(i % 500 == 0):\n",
    "            print(i)\n",
    "\n",
    "    output_file = 'benchmark/detections_{}.json'.format(model_num)\n",
    "    if(os.path.exists(output_file)):\n",
    "        os.remove(output_file)\n",
    "\n",
    "    with open(output_file, 'wt') as f:\n",
    "        json.dump(detections, f)\n",
    "        print('pronto')\n",
    "    \n",
    "    "
   ]
  },
  {
   "cell_type": "code",
   "execution_count": 39,
   "metadata": {},
   "outputs": [
    {
     "name": "stdout",
     "output_type": "stream",
     "text": [
      "loading annotations into memory...\n",
      "Done (t=0.73s)\n",
      "creating index...\n",
      "index created!\n",
      "file benchmark/detections_0.json\n",
      "Loading and preparing results...\n"
     ]
    },
    {
     "ename": "AssertionError",
     "evalue": "Results do not correspond to current coco set",
     "output_type": "error",
     "traceback": [
      "\u001b[0;31m---------------------------------------------------------------------------\u001b[0m",
      "\u001b[0;31mAssertionError\u001b[0m                            Traceback (most recent call last)",
      "\u001b[0;32m<ipython-input-39-d2b6b3654b7d>\u001b[0m in \u001b[0;36m<module>\u001b[0;34m\u001b[0m\n\u001b[1;32m     11\u001b[0m \u001b[0;32mfor\u001b[0m \u001b[0mfile\u001b[0m \u001b[0;32min\u001b[0m \u001b[0mfiles\u001b[0m\u001b[0;34m:\u001b[0m\u001b[0;34m\u001b[0m\u001b[0;34m\u001b[0m\u001b[0m\n\u001b[1;32m     12\u001b[0m     \u001b[0mprint\u001b[0m\u001b[0;34m(\u001b[0m\u001b[0;34m'file'\u001b[0m\u001b[0;34m,\u001b[0m \u001b[0mfile\u001b[0m\u001b[0;34m)\u001b[0m\u001b[0;34m\u001b[0m\u001b[0;34m\u001b[0m\u001b[0m\n\u001b[0;32m---> 13\u001b[0;31m     \u001b[0mdataset\u001b[0m \u001b[0;34m=\u001b[0m \u001b[0mcoco_gt\u001b[0m\u001b[0;34m.\u001b[0m\u001b[0mloadRes\u001b[0m\u001b[0;34m(\u001b[0m\u001b[0mfile\u001b[0m\u001b[0;34m)\u001b[0m\u001b[0;34m\u001b[0m\u001b[0;34m\u001b[0m\u001b[0m\n\u001b[0m\u001b[1;32m     14\u001b[0m     \u001b[0mcoco_eval\u001b[0m \u001b[0;34m=\u001b[0m \u001b[0mCOCOeval\u001b[0m\u001b[0;34m(\u001b[0m\u001b[0mcoco_gt\u001b[0m\u001b[0;34m,\u001b[0m \u001b[0mdataset\u001b[0m\u001b[0;34m,\u001b[0m \u001b[0mannotation_types\u001b[0m\u001b[0;34m)\u001b[0m\u001b[0;34m\u001b[0m\u001b[0;34m\u001b[0m\u001b[0m\n\u001b[1;32m     15\u001b[0m     \u001b[0mcoco_eval\u001b[0m\u001b[0;34m.\u001b[0m\u001b[0mevaluate\u001b[0m\u001b[0;34m(\u001b[0m\u001b[0;34m)\u001b[0m\u001b[0;34m\u001b[0m\u001b[0;34m\u001b[0m\u001b[0m\n",
      "\u001b[0;32m~/projects/venv/lib/python3.6/site-packages/pycocotools/coco.py\u001b[0m in \u001b[0;36mloadRes\u001b[0;34m(self, resFile)\u001b[0m\n\u001b[1;32m    315\u001b[0m         \u001b[0mannsImgIds\u001b[0m \u001b[0;34m=\u001b[0m \u001b[0;34m[\u001b[0m\u001b[0mann\u001b[0m\u001b[0;34m[\u001b[0m\u001b[0;34m'image_id'\u001b[0m\u001b[0;34m]\u001b[0m \u001b[0;32mfor\u001b[0m \u001b[0mann\u001b[0m \u001b[0;32min\u001b[0m \u001b[0manns\u001b[0m\u001b[0;34m]\u001b[0m\u001b[0;34m\u001b[0m\u001b[0;34m\u001b[0m\u001b[0m\n\u001b[1;32m    316\u001b[0m         \u001b[0;32massert\u001b[0m \u001b[0mset\u001b[0m\u001b[0;34m(\u001b[0m\u001b[0mannsImgIds\u001b[0m\u001b[0;34m)\u001b[0m \u001b[0;34m==\u001b[0m \u001b[0;34m(\u001b[0m\u001b[0mset\u001b[0m\u001b[0;34m(\u001b[0m\u001b[0mannsImgIds\u001b[0m\u001b[0;34m)\u001b[0m \u001b[0;34m&\u001b[0m \u001b[0mset\u001b[0m\u001b[0;34m(\u001b[0m\u001b[0mself\u001b[0m\u001b[0;34m.\u001b[0m\u001b[0mgetImgIds\u001b[0m\u001b[0;34m(\u001b[0m\u001b[0;34m)\u001b[0m\u001b[0;34m)\u001b[0m\u001b[0;34m)\u001b[0m\u001b[0;34m,\u001b[0m\u001b[0;31m \u001b[0m\u001b[0;31m\\\u001b[0m\u001b[0;34m\u001b[0m\u001b[0;34m\u001b[0m\u001b[0m\n\u001b[0;32m--> 317\u001b[0;31m                \u001b[0;34m'Results do not correspond to current coco set'\u001b[0m\u001b[0;34m\u001b[0m\u001b[0;34m\u001b[0m\u001b[0m\n\u001b[0m\u001b[1;32m    318\u001b[0m         \u001b[0;32mif\u001b[0m \u001b[0;34m'caption'\u001b[0m \u001b[0;32min\u001b[0m \u001b[0manns\u001b[0m\u001b[0;34m[\u001b[0m\u001b[0;36m0\u001b[0m\u001b[0;34m]\u001b[0m\u001b[0;34m:\u001b[0m\u001b[0;34m\u001b[0m\u001b[0;34m\u001b[0m\u001b[0m\n\u001b[1;32m    319\u001b[0m             \u001b[0mimgIds\u001b[0m \u001b[0;34m=\u001b[0m \u001b[0mset\u001b[0m\u001b[0;34m(\u001b[0m\u001b[0;34m[\u001b[0m\u001b[0mimg\u001b[0m\u001b[0;34m[\u001b[0m\u001b[0;34m'id'\u001b[0m\u001b[0;34m]\u001b[0m \u001b[0;32mfor\u001b[0m \u001b[0mimg\u001b[0m \u001b[0;32min\u001b[0m \u001b[0mres\u001b[0m\u001b[0;34m.\u001b[0m\u001b[0mdataset\u001b[0m\u001b[0;34m[\u001b[0m\u001b[0;34m'images'\u001b[0m\u001b[0;34m]\u001b[0m\u001b[0;34m]\u001b[0m\u001b[0;34m)\u001b[0m \u001b[0;34m&\u001b[0m \u001b[0mset\u001b[0m\u001b[0;34m(\u001b[0m\u001b[0;34m[\u001b[0m\u001b[0mann\u001b[0m\u001b[0;34m[\u001b[0m\u001b[0;34m'image_id'\u001b[0m\u001b[0;34m]\u001b[0m \u001b[0;32mfor\u001b[0m \u001b[0mann\u001b[0m \u001b[0;32min\u001b[0m \u001b[0manns\u001b[0m\u001b[0;34m]\u001b[0m\u001b[0;34m)\u001b[0m\u001b[0;34m\u001b[0m\u001b[0;34m\u001b[0m\u001b[0m\n",
      "\u001b[0;31mAssertionError\u001b[0m: Results do not correspond to current coco set"
     ]
    }
   ],
   "source": [
    "from pycocotools.coco import COCO\n",
    "from pycocotools.cocoeval import COCOeval\n",
    "\n",
    "result_files = ['benchmark/detections_{}.json'.format(i) for i in range(0)]\n",
    "\n",
    "annotations = 'validation/val2017/instances_val2017.json'\n",
    "coco_gt = COCO(annotations)\n",
    "\n",
    "annotation_types = ['category_id']\n",
    "\n",
    "for file in files:\n",
    "    print('file', file)\n",
    "    dataset = coco_gt.loadRes(file)\n",
    "    coco_eval = COCOeval(coco_gt, dataset, annotation_types)\n",
    "    coco_eval.evaluate()\n",
    "    coco_eval.accumulate()\n",
    "    coco_eval.summarize()\n",
    "#dataset = coco_dataset()"
   ]
  },
  {
   "cell_type": "markdown",
   "metadata": {},
   "source": [
    "<h2>Introdução</h2>\n",
    "<p>Este trabalho tem o propósito de realizar a comparação quantitativa de modelos de aprendizado de máquina voltados à detecção de objetos em imagens. Houve interesse, sobretudo, em estudar a aplicabilidade destes modelos em circunstâncias que  imponham limitações ao hardware utilizado, como em computadores pessoais de baixo custo.</p>\n",
    "<p>Com tal finalidade, foram selecionados modelos baseados em técnicas Deep Learning, </p>\n",
    "    \n",
    "    \n",
    "    \n",
    "    \n",
    "    realizados testes que permitem a extração de métricas de desempenho"
   ]
  },
  {
   "cell_type": "markdown",
   "metadata": {},
   "source": [
    "<h2>Metodologia</h2>\n",
    "<p>Os testes foram </p>"
   ]
  },
  {
   "cell_type": "code",
   "execution_count": null,
   "metadata": {},
   "outputs": [],
   "source": []
  }
 ],
 "metadata": {
  "kernelspec": {
   "display_name": "Python 3",
   "language": "python",
   "name": "python3"
  },
  "language_info": {
   "codemirror_mode": {
    "name": "ipython",
    "version": 3
   },
   "file_extension": ".py",
   "mimetype": "text/x-python",
   "name": "python",
   "nbconvert_exporter": "python",
   "pygments_lexer": "ipython3",
   "version": "3.6.7"
  }
 },
 "nbformat": 4,
 "nbformat_minor": 2
}
