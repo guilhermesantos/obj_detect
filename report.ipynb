{
 "cells": [
  {
   "cell_type": "code",
   "execution_count": 36,
   "metadata": {},
   "outputs": [
    {
     "name": "stdout",
     "output_type": "stream",
     "text": [
      "[0.25400463 0.68560798 0.37597961]\n",
      "[0.97575538 0.75355654 0.09273048]\n",
      "[0.10905882 0.59373236 0.74362954]\n"
     ]
    },
    {
     "data": {
      "image/png": "[encoded data removed]",
      "text/plain": [
       "<Figure size 720x360 with 1 Axes>"
      ]
     },
     "metadata": {
      "needs_background": "light"
     },
     "output_type": "display_data"
    }
   ],
   "source": [
    "import os\n",
    "import numpy as np\n",
    "import glob\n",
    "import scipy.stats as st\n",
    "import math\n",
    "import matplotlib.pyplot as plt\n",
    "\n",
    "def conf_inter(sample, interval):\n",
    "    avg = np.average(sample)\n",
    "    std = st.sem(sample)\n",
    "    conf = st.norm.interval(interval, loc=np.average(sample), scale=st.sem(sample)/math.sqrt(len(sample)))\n",
    "    return conf\n",
    "\n",
    "\n",
    "def collect_metrics(models):\n",
    "    files = glob.glob('*.dat')\n",
    "    files.sort()\n",
    "    metrics = np.zeros(shape=(len(models), 4))\n",
    "\n",
    "    for i, file in enumerate(files):\n",
    "        with open(file,'r') as f:\n",
    "            data = f.read()\n",
    "            measurements = np.array(data.split('\\n'))\n",
    "            measurements = measurements[measurements != ''].astype(np.float32)\n",
    "            avg = np.average(measurements)\n",
    "            std = st.sem(measurements)\n",
    "            conf = conf_inter(measurements, 0.95)\n",
    "            metrics[i,:] = [avg, std, conf[0], conf[1]]\n",
    "    return metrics\n",
    "\n",
    "\n",
    "def plot_time_bars(models, averages, errors, colors=None):\n",
    "    fig, axis = plt.subplots(1, 1, figsize=(10, 5))\n",
    "    bars = axis.bar(models, averages, yerr=errors)\n",
    "    if(colors == None):\n",
    "        for bar in bars:\n",
    "            color = np.random.rand(3)\n",
    "            print(color)\n",
    "            bar.set_color(color)\n",
    "    else:\n",
    "        for bar, color in zip(bars, colors):\n",
    "            bar.set_color(color)\n",
    "\n",
    "    if(os.path.exists('charts/bar.jpg')):\n",
    "        os.remove('charts/bar.jpg')\n",
    "    plt.savefig('charts/bar.jpg')\n",
    "\n",
    "models = ['SSD MobiletNet V1', 'SSD MobiletNet V1 (Coco)', 'SSD Mobilenet V2(Coco)']\n",
    "metrics = collect_metrics(models)\n",
    "averages = metrics[:,0]\n",
    "stds = metrics[:, 1]\n",
    "errors = averages-metrics[:,2]\n",
    "plot_time_bars(models, averages, errors)\n"
   ]
  },
  {
   "cell_type": "markdown",
   "metadata": {},
   "source": [
    "<h2>Introdução</h2>\n",
    "<p>Este trabalho tem o propósito de realizar a comparação quantitativa de modelos de aprendizado de máquina voltados à detecção de objetos em imagens. Houve interesse, sobretudo, em estudar a aplicabilidade destes modelos em circunstâncias que  imponham limitações ao hardware utilizado, como em computadores pessoais de baixo custo.</p>\n",
    "<p>Com tal finalidade, foram selecionados modelos baseados em técnicas Deep Learning, \n",
    "    \n",
    "    \n",
    "    \n",
    "    \n",
    "    realizados testes que permitem a extração de métricas de desempenho</p>"
   ]
  },
  {
   "cell_type": "code",
   "execution_count": null,
   "metadata": {},
   "outputs": [],
   "source": [
    "<h2>Metodologia</h2>\n",
    "<p>Os testes foram </p>"
   ]
  }
 ],
 "metadata": {
  "kernelspec": {
   "display_name": "Python 3",
   "language": "python",
   "name": "python3"
  },
  "language_info": {
   "codemirror_mode": {
    "name": "ipython",
    "version": 3
   },
   "file_extension": ".py",
   "mimetype": "text/x-python",
   "name": "python",
   "nbconvert_exporter": "python",
   "pygments_lexer": "ipython3",
   "version": "3.6.7"
  }
 },
 "nbformat": 4,
 "nbformat_minor": 2
}
