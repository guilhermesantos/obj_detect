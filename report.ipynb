{
 "cells": [
  {
   "cell_type": "code",
   "execution_count": 1,
   "metadata": {},
   "outputs": [],
   "source": [
    "import os\n",
    "import numpy as np\n",
    "import glob\n",
    "import scipy.stats as st\n",
    "import math\n",
    "import matplotlib.pyplot as plt\n",
    "import cv2\n",
    "import video_detection as vd\n",
    "import json"
   ]
  },
  {
   "cell_type": "code",
   "execution_count": 7,
   "metadata": {},
   "outputs": [
    {
     "name": "stdout",
     "output_type": "stream",
     "text": [
      "[0.1608672  0.49093252 0.18961332]\n",
      "[0.77966193 0.20103366 0.76159192]\n",
      "[0.17841977 0.11951985 0.77220575]\n"
     ]
    },
    {
     "data": {
      "image/png": "[encoded data removed]",
      "text/plain": [
       "<Figure size 720x360 with 1 Axes>"
      ]
     },
     "metadata": {
      "needs_background": "light"
     },
     "output_type": "display_data"
    }
   ],
   "source": [
    "def conf_inter(sample, interval):\n",
    "    avg = np.average(sample)\n",
    "    std = st.sem(sample)\n",
    "    conf = st.norm.interval(interval, loc=np.average(sample), scale=st.sem(sample)/math.sqrt(len(sample)))\n",
    "    return conf\n",
    "\n",
    "def collect_metrics(models):\n",
    "    files = glob.glob('./benchmark/time*.dat')\n",
    "    files.sort()\n",
    "    metrics = np.zeros(shape=(len(models), 4))\n",
    "\n",
    "    for i, file in enumerate(files):\n",
    "        with open(file,'r') as f:\n",
    "            data = f.read()\n",
    "            measurements = np.array(data.split('\\n'))\n",
    "            measurements = measurements[measurements != ''].astype(np.float32)\n",
    "            avg = np.average(measurements)\n",
    "            std = st.sem(measurements)\n",
    "            conf = conf_inter(measurements, 0.95)\n",
    "            metrics[i,:] = [avg, std, conf[0], conf[1]]\n",
    "    return metrics\n",
    "\n",
    "\n",
    "def plot_time_bars(models, averages, errors, colors=None):\n",
    "    fig, axis = plt.subplots(1, 1, figsize=(10, 5))\n",
    "    axis.set_title('Benchmark: Tempo médio de inferência por modelo')\n",
    "    axis.set_ylabel('Tempo médio de inferência(s)')\n",
    "    axis.set_xlabel('Modelo')\n",
    "    bars = axis.bar(models, averages, yerr=errors)\n",
    "    if(colors == None):\n",
    "        for bar in bars:\n",
    "            color = np.random.rand(3)\n",
    "            print(color)\n",
    "            bar.set_color(color)\n",
    "    else:\n",
    "        for bar, color in zip(bars, colors):\n",
    "            bar.set_color(color)\n",
    "\n",
    "    if(os.path.exists('charts/bar.png')):\n",
    "        os.remove('charts/bar.png')\n",
    "    plt.savefig('charts/bar.png')\n",
    "\n",
    "models = ['SSD MobiletNet V1', 'SSD MobiletNet V1 (Coco)', 'SSD Mobilenet V2(Coco)']\n",
    "metrics = collect_metrics(models)\n",
    "averages = metrics[:,0]\n",
    "stds = metrics[:, 1]\n",
    "errors = averages-metrics[:,2]\n",
    "\n",
    "plot_time_bars(models, averages, errors)\n"
   ]
  },
  {
   "cell_type": "code",
   "execution_count": 21,
   "metadata": {},
   "outputs": [
    {
     "name": "stdout",
     "output_type": "stream",
     "text": [
      "['benchmark/detections_MobileNet-SSD v1 Tutorial_dataset.json', 'benchmark/detections_MobiletNet-SSD v1 Coco_dataset.json', 'benchmark/detections_MobiletNet-SSD v2 Coco_dataset.json']\n"
     ]
    }
   ],
   "source": [
    "models = []\n",
    "models.append({'id': 1, 'name':'MobileNet-SSD v1 Tutorial'})\n",
    "models.append({'id': 2, 'name':'MobiletNet-SSD v1 Coco'})\n",
    "models.append({'id': 3, 'name':'MobiletNet-SSD v2 Coco'})\n",
    "\n",
    "test_name = 'dataset'\n",
    "\n",
    "test_result_files = ['benchmark/detections_{}_{}.json'.format(model['name'], test_name) for model in models]\n",
    "print(test_result_files)"
   ]
  },
  {
   "cell_type": "code",
   "execution_count": 24,
   "metadata": {},
   "outputs": [
    {
     "name": "stdout",
     "output_type": "stream",
     "text": [
      "loading annotations into memory...\n",
      "Done (t=0.36s)\n",
      "creating index...\n",
      "index created!\n",
      "\n",
      "\n",
      "Current file under testing benchmark/detections_MobileNet-SSD v1 Tutorial_dataset.json\n",
      "Loading and preparing results...\n",
      "DONE (t=0.05s)\n",
      "creating index...\n",
      "index created!\n",
      "Running per image evaluation...\n",
      "Evaluate annotation type *bbox*\n",
      "DONE (t=8.46s).\n",
      "Accumulating evaluation results...\n",
      "DONE (t=1.51s).\n",
      " Average Precision  (AP) @[ IoU=0.50:0.95 | area=   all | maxDets=100 ] = 0.006\n",
      " Average Precision  (AP) @[ IoU=0.50      | area=   all | maxDets=100 ] = 0.008\n",
      " Average Precision  (AP) @[ IoU=0.75      | area=   all | maxDets=100 ] = 0.006\n",
      " Average Precision  (AP) @[ IoU=0.50:0.95 | area= small | maxDets=100 ] = 0.000\n",
      " Average Precision  (AP) @[ IoU=0.50:0.95 | area=medium | maxDets=100 ] = 0.002\n",
      " Average Precision  (AP) @[ IoU=0.50:0.95 | area= large | maxDets=100 ] = 0.012\n",
      " Average Recall     (AR) @[ IoU=0.50:0.95 | area=   all | maxDets=  1 ] = 0.006\n",
      " Average Recall     (AR) @[ IoU=0.50:0.95 | area=   all | maxDets= 10 ] = 0.006\n",
      " Average Recall     (AR) @[ IoU=0.50:0.95 | area=   all | maxDets=100 ] = 0.006\n",
      " Average Recall     (AR) @[ IoU=0.50:0.95 | area= small | maxDets=100 ] = 0.000\n",
      " Average Recall     (AR) @[ IoU=0.50:0.95 | area=medium | maxDets=100 ] = 0.002\n",
      " Average Recall     (AR) @[ IoU=0.50:0.95 | area= large | maxDets=100 ] = 0.014\n",
      "\n",
      "\n",
      "Current file under testing benchmark/detections_MobiletNet-SSD v1 Coco_dataset.json\n",
      "Loading and preparing results...\n",
      "DONE (t=0.11s)\n",
      "creating index...\n",
      "index created!\n",
      "Running per image evaluation...\n",
      "Evaluate annotation type *bbox*\n",
      "DONE (t=13.13s).\n",
      "Accumulating evaluation results...\n",
      "DONE (t=1.85s).\n",
      " Average Precision  (AP) @[ IoU=0.50:0.95 | area=   all | maxDets=100 ] = 0.244\n",
      " Average Precision  (AP) @[ IoU=0.50      | area=   all | maxDets=100 ] = 0.379\n",
      " Average Precision  (AP) @[ IoU=0.75      | area=   all | maxDets=100 ] = 0.264\n",
      " Average Precision  (AP) @[ IoU=0.50:0.95 | area= small | maxDets=100 ] = 0.022\n",
      " Average Precision  (AP) @[ IoU=0.50:0.95 | area=medium | maxDets=100 ] = 0.189\n",
      " Average Precision  (AP) @[ IoU=0.50:0.95 | area= large | maxDets=100 ] = 0.545\n",
      " Average Recall     (AR) @[ IoU=0.50:0.95 | area=   all | maxDets=  1 ] = 0.219\n",
      " Average Recall     (AR) @[ IoU=0.50:0.95 | area=   all | maxDets= 10 ] = 0.286\n",
      " Average Recall     (AR) @[ IoU=0.50:0.95 | area=   all | maxDets=100 ] = 0.288\n",
      " Average Recall     (AR) @[ IoU=0.50:0.95 | area= small | maxDets=100 ] = 0.029\n",
      " Average Recall     (AR) @[ IoU=0.50:0.95 | area=medium | maxDets=100 ] = 0.229\n",
      " Average Recall     (AR) @[ IoU=0.50:0.95 | area= large | maxDets=100 ] = 0.635\n",
      "\n",
      "\n",
      "Current file under testing benchmark/detections_MobiletNet-SSD v2 Coco_dataset.json\n",
      "Loading and preparing results...\n",
      "DONE (t=0.87s)\n",
      "creating index...\n",
      "index created!\n",
      "Running per image evaluation...\n",
      "Evaluate annotation type *bbox*\n",
      "DONE (t=12.68s).\n",
      "Accumulating evaluation results...\n",
      "DONE (t=1.87s).\n",
      " Average Precision  (AP) @[ IoU=0.50:0.95 | area=   all | maxDets=100 ] = 0.259\n",
      " Average Precision  (AP) @[ IoU=0.50      | area=   all | maxDets=100 ] = 0.403\n",
      " Average Precision  (AP) @[ IoU=0.75      | area=   all | maxDets=100 ] = 0.280\n",
      " Average Precision  (AP) @[ IoU=0.50:0.95 | area= small | maxDets=100 ] = 0.025\n",
      " Average Precision  (AP) @[ IoU=0.50:0.95 | area=medium | maxDets=100 ] = 0.198\n",
      " Average Precision  (AP) @[ IoU=0.50:0.95 | area= large | maxDets=100 ] = 0.583\n",
      " Average Recall     (AR) @[ IoU=0.50:0.95 | area=   all | maxDets=  1 ] = 0.231\n",
      " Average Recall     (AR) @[ IoU=0.50:0.95 | area=   all | maxDets= 10 ] = 0.298\n",
      " Average Recall     (AR) @[ IoU=0.50:0.95 | area=   all | maxDets=100 ] = 0.301\n",
      " Average Recall     (AR) @[ IoU=0.50:0.95 | area= small | maxDets=100 ] = 0.035\n",
      " Average Recall     (AR) @[ IoU=0.50:0.95 | area=medium | maxDets=100 ] = 0.241\n",
      " Average Recall     (AR) @[ IoU=0.50:0.95 | area= large | maxDets=100 ] = 0.661\n"
     ]
    }
   ],
   "source": [
    "from pycocotools.coco import COCO\n",
    "from pycocotools.cocoeval import COCOeval\n",
    "\n",
    "annotations = './dataset/val2017/annotations/instances_val2017.json'\n",
    "coco_gt = COCO(annotations)\n",
    "\n",
    "annotation_types = ['bbox']\n",
    "\n",
    "for file in test_result_files:\n",
    "    print('\\n\\nCurrent file under testing', file)\n",
    "    dataset = coco_gt.loadRes(file)\n",
    "    coco_eval = COCOeval(coco_gt, dataset, annotation_types[0])\n",
    "    coco_eval.evaluate()\n",
    "    coco_eval.accumulate()\n",
    "    coco_eval.summarize()"
   ]
  },
  {
   "cell_type": "markdown",
   "metadata": {},
   "source": [
    "<h2>Introdução</h2>\n",
    "<p>A expansão dos dispositivos móveis, aliados à (), provocou () do interesse no estudo de visão computacional. </p>\n",
    "<p>Portanto, este trabalho tem o propósito de realizar a comparação quantitativa de modelos de aprendizado de máquina voltados à detecção de objetos em imagens. Houve interesse, sobretudo, em estudar a aplicabilidade destes modelos em circunstâncias que  imponham limitações ao hardware utilizado, como em computadores pessoais de baixo custo. Além disso, buscou-se analisar métricas que apresentem maior relevância ao utilizador, determinando os aspectos que causariam maior impacto à experiência de usuário.</p>"
   ]
  },
  {
   "cell_type": "markdown",
   "metadata": {},
   "source": [
    "<h2>Metodologia</h2>\n",
    "<p>Para realização dos testes, foram selecionados modelos de visão computacional baseados em técnicas de Deep Learning, notórios por apresentar severas exigências de capacidade computacional. Tomando proveito dos recentes avanços da área, provenientes da demanda por aplicações de visão computacional em plataformas móveis, os modelos escolhidos foram (a,b,c).</p>\n",
    "<p>A utilização destes modelos foi feita por meio da biblioteca OpenCV, </p>"
   ]
  },
  {
   "cell_type": "markdown",
   "metadata": {},
   "source": [
    "<h2>Resultados</h2>"
   ]
  },
  {
   "cell_type": "markdown",
   "metadata": {},
   "source": [
    "<h2>Conclusão</h2>"
   ]
  }
 ],
 "metadata": {
  "kernelspec": {
   "display_name": "Python 3",
   "language": "python",
   "name": "python3"
  },
  "language_info": {
   "codemirror_mode": {
    "name": "ipython",
    "version": 3
   },
   "file_extension": ".py",
   "mimetype": "text/x-python",
   "name": "python",
   "nbconvert_exporter": "python",
   "pygments_lexer": "ipython3",
   "version": "3.6.7"
  }
 },
 "nbformat": 4,
 "nbformat_minor": 2
}
