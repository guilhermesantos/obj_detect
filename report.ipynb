{
 "cells": [
  {
   "cell_type": "code",
   "execution_count": 33,
   "metadata": {},
   "outputs": [
    {
     "name": "stdout",
     "output_type": "stream",
     "text": [
      "measurement_m2.dat media 0.1281004548072815 dp 0.000904453918337822\n",
      "intervalo (0.12630582201065713, 0.12989508760390586)\n",
      "measurement_m1.dat media 0.08285761624574661 dp 0.0007032399531453848\n",
      "intervalo (0.08146223560973737, 0.08425299688175586)\n"
     ]
    }
   ],
   "source": [
    "import os\n",
    "import numpy as np\n",
    "import glob\n",
    "import scipy.stats as st\n",
    "\n",
    "files = glob.glob('*.dat')\n",
    "\n",
    "for file in files:\n",
    "    with open(file,'r') as f:\n",
    "        data = f.read()\n",
    "        measurements = np.array(data.split('\\n'))\n",
    "        measurements = measurements[measurements != ''].astype(np.float32)\n",
    "        avg = np.average(measurements)\n",
    "        std = st.sem(measurements)\n",
    "        print('{} media {} dp {}'.format(file, avg, std))\n",
    "        print('intervalo {}'.format(st.t.interval(0.95, len(measurements)-1, loc=avg, scale=st.sem(measurements))))"
   ]
  },
  {
   "cell_type": "code",
   "execution_count": null,
   "metadata": {},
   "outputs": [],
   "source": []
  }
 ],
 "metadata": {
  "kernelspec": {
   "display_name": "Python 3",
   "language": "python",
   "name": "python3"
  },
  "language_info": {
   "codemirror_mode": {
    "name": "ipython",
    "version": 3
   },
   "file_extension": ".py",
   "mimetype": "text/x-python",
   "name": "python",
   "nbconvert_exporter": "python",
   "pygments_lexer": "ipython3",
   "version": "3.6.7"
  }
 },
 "nbformat": 4,
 "nbformat_minor": 2
}
