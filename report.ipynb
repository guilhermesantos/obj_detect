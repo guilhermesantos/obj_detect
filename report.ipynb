{
 "cells": [
  {
   "cell_type": "code",
   "execution_count": 29,
   "metadata": {},
   "outputs": [
    {
     "name": "stdout",
     "output_type": "stream",
     "text": [
      "measurement_m1.dat media 0.08285761624574661 dp 0.006997148972004652\n",
      "measurement_m2.dat media 0.1281004548072815 dp 0.008999202400445938\n"
     ]
    }
   ],
   "source": [
    "import os\n",
    "import numpy as np\n",
    "\n",
    "files = ['measurement_m1.dat', 'measurement_m2.dat']\n",
    "for file in files:\n",
    "    with open(file,'r') as f:\n",
    "        data = f.read()\n",
    "        measurements = np.array(data.split('\\n'))\n",
    "        measurements = measurements[measurements != ''].astype(np.float32)\n",
    "        print('{} media {} dp {}'.format(file, np.average(measurements), np.std(measurements)))"
   ]
  },
  {
   "cell_type": "code",
   "execution_count": null,
   "metadata": {},
   "outputs": [],
   "source": []
  }
 ],
 "metadata": {
  "kernelspec": {
   "display_name": "Python 3",
   "language": "python",
   "name": "python3"
  },
  "language_info": {
   "codemirror_mode": {
    "name": "ipython",
    "version": 3
   },
   "file_extension": ".py",
   "mimetype": "text/x-python",
   "name": "python",
   "nbconvert_exporter": "python",
   "pygments_lexer": "ipython3",
   "version": "3.6.7"
  }
 },
 "nbformat": 4,
 "nbformat_minor": 2
}
